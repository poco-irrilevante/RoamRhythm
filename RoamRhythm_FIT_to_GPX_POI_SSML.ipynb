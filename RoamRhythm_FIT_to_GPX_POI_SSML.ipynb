{
 "cells": [
  {
   "cell_type": "markdown",
   "id": "33bfbd2d",
   "metadata": {},
   "source": [
    "\n",
    "# RoamRhythm — FIT → GPX → POIs → SSML (Interactive Notebook)\n",
    "\n",
    "This notebook provides an **interactive**, well-documented workflow to:\n",
    "- Convert **`.FIT` → `.GPX`**\n",
    "- Generate **evenly spaced POIs** over distance\n",
    "- Produce **calm/enthusiastic SSML** (intro, per-POI, outro)\n",
    "\n",
    "> **Stack**: Conda (Python 3.13.5), `fitdecode` or `fitparse`, `gpxpy`, `numpy`  \n",
    "> **Workflow**: iterate here → migrate stable logic back to a Python CLI/script later.\n"
   ]
  },
  {
   "cell_type": "markdown",
   "id": "25d1402f",
   "metadata": {},
   "source": [
    "\n",
    "## 0) Environment & dependencies (Conda + pip)\n",
    "\n",
    "Create the environment once, then run Jupyter from it:\n",
    "\n",
    "```bash\n",
    "conda create -n roamrhythm python=3.13.5 -y\n",
    "conda activate roamrhythm\n",
    "pip install --upgrade pip\n",
    "pip install jupyterlab nbformat fitdecode fitparse gpxpy numpy\n",
    "```\n",
    "> You only need **one** of `fitdecode` or `fitparse`. Installing both increases compatibility.\n"
   ]
  },
  {
   "cell_type": "markdown",
   "id": "0b3f5fec",
   "metadata": {},
   "source": [
    "\n",
    "## 1) Project config (auto locate your FIT file)\n",
    "\n",
    "- Set `FIT_HINT` to either an **absolute path** or just the **filename**.  \n",
    "- If only a filename is given, we **auto-search** recursively from the notebook folder.\n"
   ]
  },
  {
   "cell_type": "code",
   "execution_count": 4,
   "id": "96f891ab",
   "metadata": {},
   "outputs": [
    {
     "name": "stdout",
     "output_type": "stream",
     "text": [
      "Using FIT: C:\\Development\\Python\\RoamRhythm\\data\\Test10K_BE_UD.fit\n",
      "Output dir: C:\\Development\\Python\\RoamRhythm\\out\n"
     ]
    }
   ],
   "source": [
    "\n",
    "from pathlib import Path\n",
    "import sys\n",
    "\n",
    "# --- Configure either a direct path OR just a filename to auto-search ---\n",
    "FIT_HINT = r\".\\Data\\Test10K_BE_UD.fit\"   # change to your file name or absolute path\n",
    "OUTDIR   = Path(\"./out\")\n",
    "PACE_KMH = 4.0\n",
    "POI_COUNT = 10\n",
    "USE_FITDECODE = True  # set False to try fitparse\n",
    "\n",
    "def resolve_fit_path(hint: str) -> Path:\n",
    "    p = Path(hint)\n",
    "    if p.exists():\n",
    "        return p.resolve()\n",
    "    here = Path.cwd()\n",
    "    candidate = here / hint\n",
    "    if candidate.exists():\n",
    "        return candidate.resolve()\n",
    "    matches = list(here.rglob(hint if \"*\" in hint else f\"*{Path(hint).stem}*.fit\"))\n",
    "    if matches:\n",
    "        return matches[0].resolve()\n",
    "    raise FileNotFoundError(\n",
    "        f\"FIT file not found.\\n\"\n",
    "        f\"Tried: {p}\\n\"\n",
    "        f\"CWD : {here}\\n\"\n",
    "        f\"Tips:\\n\"\n",
    "        f\" - Put the .fit next to the notebook OR give an absolute path.\\n\"\n",
    "        f\" - On Windows, use raw strings: r\\\"C:\\\\path\\\\to\\\\file.fit\\\".\\n\"\n",
    "        f\" - Check extension case (.fit vs .FIT).\\n\"\n",
    "    )\n",
    "\n",
    "FIT_PATH = resolve_fit_path(FIT_HINT)\n",
    "OUTDIR.mkdir(parents=True, exist_ok=True)\n",
    "print(\"Using FIT:\", FIT_PATH)\n",
    "print(\"Output dir:\", OUTDIR.resolve())\n"
   ]
  },
  {
   "cell_type": "markdown",
   "id": "f7bde24c",
   "metadata": {},
   "source": [
    "\n",
    "## 2) Imports & helpers\n"
   ]
  },
  {
   "cell_type": "code",
   "execution_count": 2,
   "id": "59ada4af",
   "metadata": {},
   "outputs": [
    {
     "name": "stdout",
     "output_type": "stream",
     "text": [
      "Defaulting to user installation because normal site-packages is not writeable\n",
      "Requirement already satisfied: nbformat in c:\\programdata\\anaconda3\\lib\\site-packages (5.10.4)\n",
      "Collecting fitdecode\n",
      "  Using cached fitdecode-0.11.0-py3-none-any.whl.metadata (11 kB)\n",
      "Collecting fitparse\n",
      "  Using cached fitparse-1.2.0.tar.gz (65 kB)\n",
      "  Preparing metadata (setup.py): started\n",
      "  Preparing metadata (setup.py): finished with status 'done'\n",
      "Collecting gpxpy\n",
      "  Using cached gpxpy-1.6.2-py3-none-any.whl.metadata (5.9 kB)\n",
      "Requirement already satisfied: numpy in c:\\programdata\\anaconda3\\lib\\site-packages (2.2.5)\n",
      "Requirement already satisfied: fastjsonschema>=2.15 in c:\\programdata\\anaconda3\\lib\\site-packages (from nbformat) (2.20.0)\n",
      "Requirement already satisfied: jsonschema>=2.6 in c:\\programdata\\anaconda3\\lib\\site-packages (from nbformat) (4.25.0)\n",
      "Requirement already satisfied: jupyter-core!=5.0.*,>=4.12 in c:\\programdata\\anaconda3\\lib\\site-packages (from nbformat) (5.8.1)\n",
      "Requirement already satisfied: traitlets>=5.1 in c:\\programdata\\anaconda3\\lib\\site-packages (from nbformat) (5.14.3)\n",
      "Requirement already satisfied: attrs>=22.2.0 in c:\\programdata\\anaconda3\\lib\\site-packages (from jsonschema>=2.6->nbformat) (24.3.0)\n",
      "Requirement already satisfied: jsonschema-specifications>=2023.03.6 in c:\\programdata\\anaconda3\\lib\\site-packages (from jsonschema>=2.6->nbformat) (2023.7.1)\n",
      "Requirement already satisfied: referencing>=0.28.4 in c:\\programdata\\anaconda3\\lib\\site-packages (from jsonschema>=2.6->nbformat) (0.30.2)\n",
      "Requirement already satisfied: rpds-py>=0.7.1 in c:\\programdata\\anaconda3\\lib\\site-packages (from jsonschema>=2.6->nbformat) (0.22.3)\n",
      "Requirement already satisfied: platformdirs>=2.5 in c:\\programdata\\anaconda3\\lib\\site-packages (from jupyter-core!=5.0.*,>=4.12->nbformat) (4.3.7)\n",
      "Requirement already satisfied: pywin32>=300 in c:\\programdata\\anaconda3\\lib\\site-packages (from jupyter-core!=5.0.*,>=4.12->nbformat) (311)\n",
      "Using cached fitdecode-0.11.0-py3-none-any.whl (109 kB)\n",
      "Using cached gpxpy-1.6.2-py3-none-any.whl (42 kB)\n",
      "Building wheels for collected packages: fitparse\n",
      "  Building wheel for fitparse (setup.py): started\n",
      "  Building wheel for fitparse (setup.py): finished with status 'done'\n",
      "  Created wheel for fitparse: filename=fitparse-1.2.0-py3-none-any.whl size=68236 sha256=bd836a35f334cfb5632198f2f5ac56b9de02484b84e500705b250827ef248528\n",
      "  Stored in directory: c:\\users\\charl\\appdata\\local\\pip\\cache\\wheels\\6a\\8a\\17\\d5e85db99c2efece41b1aa8388d9e5c42d1796021b30f3f1ee\n",
      "Successfully built fitparse\n",
      "Installing collected packages: fitparse, gpxpy, fitdecode\n",
      "\n",
      "   ---------------------------------------- 0/3 [fitparse]\n",
      "   ------------- -------------------------- 1/3 [gpxpy]\n",
      "   -------------------------- ------------- 2/3 [fitdecode]\n",
      "   -------------------------- ------------- 2/3 [fitdecode]\n",
      "   -------------------------- ------------- 2/3 [fitdecode]\n",
      "   -------------------------- ------------- 2/3 [fitdecode]\n",
      "   ---------------------------------------- 3/3 [fitdecode]\n",
      "\n",
      "Successfully installed fitdecode-0.11.0 fitparse-1.2.0 gpxpy-1.6.2\n",
      "Note: you may need to restart the kernel to use updated packages.\n"
     ]
    },
    {
     "name": "stderr",
     "output_type": "stream",
     "text": [
      "  DEPRECATION: Building 'fitparse' using the legacy setup.py bdist_wheel mechanism, which will be removed in a future version. pip 25.3 will enforce this behaviour change. A possible replacement is to use the standardized build interface by setting the `--use-pep517` option, (possibly combined with `--no-build-isolation`), or adding a `pyproject.toml` file to the source tree of 'fitparse'. Discussion can be found at https://github.com/pypa/pip/issues/6334\n",
      "  WARNING: The scripts fitjson.exe and fittxt.exe are installed in 'C:\\Users\\charl\\AppData\\Roaming\\Python\\Python313\\Scripts' which is not on PATH.\n",
      "  Consider adding this directory to PATH or, if you prefer to suppress this warning, use --no-warn-script-location.\n"
     ]
    }
   ],
   "source": [
    "%pip install nbformat fitdecode fitparse gpxpy numpy"
   ]
  },
  {
   "cell_type": "code",
   "execution_count": 7,
   "id": "26522e2a",
   "metadata": {},
   "outputs": [],
   "source": [
    "\n",
    "import math, csv, json\n",
    "from datetime import datetime, timedelta, timezone\n",
    "from typing import List, Tuple, Optional\n",
    "\n",
    "import numpy as np\n",
    "import gpxpy, gpxpy.gpx\n",
    "\n",
    "# Try selected FIT backend first; fall back to the other\n",
    "fit_backend = None\n",
    "if USE_FITDECODE:\n",
    "    try:\n",
    "        import fitdecode  # type: ignore\n",
    "        fit_backend = \"fitdecode\"\n",
    "    except Exception as e:\n",
    "        print(\"fitdecode not available:\", e)\n",
    "        fit_backend = None\n",
    "\n",
    "if fit_backend is None:\n",
    "    try:\n",
    "        from fitparse import FitFile  # type: ignore\n",
    "        fit_backend = \"fitparse\"\n",
    "    except Exception as e:\n",
    "        print(\"fitparse not available:\", e)\n",
    "        raise RuntimeError(\"No FIT backend available. Please install fitdecode or fitparse.\")\n",
    "\n",
    "def haversine(lat1, lon1, lat2, lon2):\n",
    "    R = 6371000.0\n",
    "    phi1 = math.radians(lat1)\n",
    "    phi2 = math.radians(lat2)\n",
    "    dphi = math.radians(lat2 - lat1)\n",
    "    dlambda = math.radians(lon2 - lon1)\n",
    "    a = math.sin(dphi/2)**2 + math.cos(phi1)*math.cos(phi2)*math.sin(dlambda/2)**2\n",
    "    c = 2 * math.atan2(math.sqrt(a), math.sqrt(1-a))\n",
    "    return R * c  # meters\n",
    "\n",
    "def cumulative_distance(points: List[Tuple[float,float]]) -> List[float]:\n",
    "    dists = [0.0]\n",
    "    for i in range(1, len(points)):\n",
    "        d = haversine(points[i-1][0], points[i-1][1], points[i][0], points[i][1])\n",
    "        dists.append(dists[-1] + d)\n",
    "    return dists\n",
    "\n",
    "def read_fit_fitdecode(path: Path):\n",
    "    lats, lons, eles, times = [], [], [], []\n",
    "    with fitdecode.FitReader(str(path)) as rd:\n",
    "        for frame in rd:\n",
    "            if isinstance(frame, fitdecode.records.FitDataMessage) and frame.name == 'record':\n",
    "                lat = frame.get_value('position_lat')\n",
    "                lon = frame.get_value('position_long')\n",
    "                ele = frame.get_value('enhanced_altitude')\n",
    "                t = frame.get_value('timestamp')\n",
    "                def semi_to_deg(x): return x * (180.0 / 2**31) if x is not None else None\n",
    "                lat = semi_to_deg(lat); lon = semi_to_deg(lon)\n",
    "                if lat is not None and lon is not None:\n",
    "                    lats.append(lat); lons.append(lon); eles.append(ele if ele is not None else 0.0)\n",
    "                    times.append(t if isinstance(t, datetime) else None)\n",
    "    return lats, lons, eles, times\n",
    "\n",
    "def read_fit_fitparse(path: Path):\n",
    "    lats, lons, eles, times = [], [], [], []\n",
    "    ff = FitFile(str(path))\n",
    "    for record in ff.get_messages('record'):\n",
    "        vals = {d.name: d.value for d in record}\n",
    "        lat = vals.get('position_lat'); lon = vals.get('position_long')\n",
    "        ele = vals.get('enhanced_altitude', 0.0); t = vals.get('timestamp', None)\n",
    "        def semi_to_deg(x): return x * (180.0 / 2**31) if x is not None else None\n",
    "        lat = semi_to_deg(lat); lon = semi_to_deg(lon)\n",
    "        if lat is not None and lon is not None:\n",
    "            lats.append(lat); lons.append(lon); eles.append(ele if ele is not None else 0.0)\n",
    "            times.append(t if isinstance(t, datetime) else None)\n",
    "    return lats, lons, eles, times\n",
    "\n",
    "def fit_to_track(path: Path):\n",
    "    if fit_backend == \"fitdecode\":\n",
    "        return read_fit_fitdecode(path)\n",
    "    elif fit_backend == \"fitparse\":\n",
    "        return read_fit_fitparse(path)\n",
    "    else:\n",
    "        raise RuntimeError(\"No FIT backend selected.\")\n",
    "\n",
    "def make_gpx(lats, lons, eles, times, creator=\"RoamRhythm-notebook\"):\n",
    "    gpx = gpxpy.gpx.GPX()\n",
    "    gpx.creator = creator\n",
    "    trk = gpxpy.gpx.GPXTrack()\n",
    "    gpx.tracks.append(trk)\n",
    "    seg = gpxpy.gpx.GPXTrackSegment()\n",
    "    trk.segments.append(seg)\n",
    "    for lat, lon, ele, t in zip(lats, lons, eles, times):\n",
    "        seg.points.append(gpxpy.gpx.GPXTrackPoint(latitude=lat, longitude=lon, elevation=ele, time=t))\n",
    "    return gpx\n",
    "\n",
    "def interpolate_time_from_pace(start_time: Optional[datetime], dist_m: float, pace_kmh: float) -> datetime:\n",
    "    if start_time is None:\n",
    "        start_time = datetime(1970,1,1, tzinfo=timezone.utc)\n",
    "    hours = dist_m / (pace_kmh * 1000.0)\n",
    "    return start_time + timedelta(hours=hours)\n",
    "\n",
    "def ssml_wrap(text: str) -> str:\n",
    "    return f'<speak><prosody rate=\"85%\" pitch=\"+0st\" volume=\"+0.0dB\">{text}</prosody></speak>'\n",
    "\n",
    "POI_TITLES = [\n",
    "    \"Landschap & waterstaat\",\"Ontstaan van nederzettingen\",\"Ambachten en handel\",\"Architectuur in de regio\",\n",
    "    \"Natuur & biodiversiteit\",\"Polders, dijken en gemalen\",\"Oude routes & verbindingen\",\"Oorlogssporen en herdenking\",\n",
    "    \"Bestuur & gemeentefusies\",\"Moderne tijd & toekomst\"\n",
    "]\n",
    "POI_TEMPLATES = [\n",
    "    \"Dit landschap is gevormd door water en wind. Let op sloten, kades en hoogtes: ze vertellen hoe mensen het water sturen. Een klein weetje: veel polderwegen liggen net hoger dan omliggende velden.\",\n",
    "    \"Veel dorpen ontstonden bij kruisingen van wegen en water. Luister hoe handel en ambacht bewoners trokken—vaak rond een kerk of plein als hart van de gemeenschap.\",\n",
    "    \"Ambachten bloeiden waar grondstoffen en routes elkaar raken. Denk aan molenaars, smeden, scheepstimmerlieden of linnenwevers—ieder gebonden aan seizoen en plaats.\",\n",
    "    \"Kijk naar metselwerk, dakvormen en gevelopeningen. Baksteen en nuchtere lijnen domineren vaak; wederopbouw en modernisering lieten ook hun sporen na.\",\n",
    "    \"Let op vogels aan randen van water en riet. Fluisterstil bewegen vaak waterhoentjes; in sloten zie je soms libellen. Tip: loop even langzamer en luister naar lagen van geluid.\",\n",
    "    \"Polderen is samenwerken: dijken houden water buiten, sloten voeren af, gemalen regelen peil. Een metafoor: het landschap ademt—in natte tijden trager, in droge sneller.\",\n",
    "    \"Routes vormen ritme: karrenpaden, trekvaarten, kanalen of spoorlijnen verplaatsen mensen en ideeën. Oude tracés wonen soms voort als stille fietspaden.\",\n",
    "    \"Sporen van oorlog vragen bedachtzaamheid. Monumenten zijn ankerpunten van herinnering; ze nodigen uit tot stilstaan, kijken, en zachtjes verdergaan.\",\n",
    "    \"Gemeenten veranderden mee met tijd en taken. Fusies bundelden diensten; grenzen verschoof men om samen sterker te staan in zorg, onderwijs en beheer.\",\n",
    "    \"Vandaag draait veel om balans: natuurontwikkeling, energie, wonen en recreatie. Kijk om je heen: vernieuwing en behoud kunnen elkaar versterken.\"\n",
    "]\n"
   ]
  },
  {
   "cell_type": "markdown",
   "id": "0e53d86b",
   "metadata": {},
   "source": [
    "\n",
    "## 3) Load `.FIT` → write `.GPX`\n"
   ]
  },
  {
   "cell_type": "code",
   "execution_count": 8,
   "id": "94dec6ce",
   "metadata": {},
   "outputs": [
    {
     "name": "stdout",
     "output_type": "stream",
     "text": [
      "GPX written: C:\\Development\\Python\\RoamRhythm\\out\\Test10K_BE_UD.gpx\n",
      "Track points: 1196\n"
     ]
    }
   ],
   "source": [
    "\n",
    "lats, lons, eles, times = fit_to_track(FIT_PATH)\n",
    "if len(lats) < 2:\n",
    "    raise RuntimeError(\"Not enough track points in FIT.\")\n",
    "gpx = make_gpx(lats, lons, eles, times)\n",
    "gpx_path = OUTDIR / (FIT_PATH.stem + \".gpx\")\n",
    "gpx_path.write_text(gpx.to_xml(), encoding=\"utf-8\")\n",
    "print(f\"GPX written: {gpx_path.resolve()}\")\n",
    "print(f\"Track points: {len(lats)}\")\n"
   ]
  },
  {
   "cell_type": "markdown",
   "id": "2be4d7f1",
   "metadata": {},
   "source": [
    "\n",
    "## 4) Compute distance & build evenly-spaced POIs\n"
   ]
  },
  {
   "cell_type": "code",
   "execution_count": 9,
   "id": "67146b29",
   "metadata": {},
   "outputs": [
    {
     "name": "stdout",
     "output_type": "stream",
     "text": [
      "Total distance: 10.14 km\n",
      "POIs generated: 10\n"
     ]
    }
   ],
   "source": [
    "\n",
    "points = list(zip(lats, lons))\n",
    "cum = cumulative_distance(points)  # meters\n",
    "total_m = cum[-1]\n",
    "print(f\"Total distance: {total_m/1000.0:.2f} km\")\n",
    "\n",
    "# targets from 9% to 99% of route (avoid overlap with intro/outro)\n",
    "targets = np.linspace(total_m * 0.09, total_m * 0.99, POI_COUNT)\n",
    "\n",
    "# find first timestamp (if any)\n",
    "t0 = next((t for t in times if isinstance(t, datetime)), None)\n",
    "\n",
    "pois = []\n",
    "for i, tm in enumerate(targets):\n",
    "    idx = int(np.argmin([abs(d - tm) for d in cum]))\n",
    "    km = round(cum[idx]/1000.0, 2)\n",
    "    lat, lon = float(lats[idx]), float(lons[idx])\n",
    "    eta = times[idx] if (idx < len(times) and isinstance(times[idx], datetime)) else None\n",
    "    if eta is None:\n",
    "        eta = (t0 if t0 else datetime(1970,1,1, tzinfo=timezone.utc))\n",
    "        hours = (cum[idx] / 1000.0) / PACE_KMH\n",
    "        eta = eta + timedelta(hours=hours)\n",
    "    dur_s = 100 if i % 2 == 0 else 95\n",
    "    title = POI_TITLES[i % len(POI_TITLES)]\n",
    "    text  = POI_TEMPLATES[i % len(POI_TEMPLATES)]\n",
    "    ssml  = ssml_wrap(f\"{title}. {text}\")\n",
    "    pois.append({\n",
    "        \"id\": f\"POI-{i+1:02d}\",\n",
    "        \"km\": km, \"lat\": lat, \"lon\": lon,\n",
    "        \"eta_utc\": eta.astimezone(timezone.utc).isoformat(),\n",
    "        \"duration_s\": dur_s, \"title\": title, \"ssml\": ssml\n",
    "    })\n",
    "\n",
    "print(f\"POIs generated: {len(pois)}\")\n"
   ]
  },
  {
   "cell_type": "markdown",
   "id": "5ed3ce13",
   "metadata": {},
   "source": [
    "\n",
    "## 5) Intro & Outro SSML\n"
   ]
  },
  {
   "cell_type": "code",
   "execution_count": 10,
   "id": "3c6d83d2",
   "metadata": {},
   "outputs": [],
   "source": [
    "\n",
    "intro_text = (\"Welkom bij deze wandeling. We nemen u in een rustig tempo mee door het landschap, \"\n",
    "              \"met korte verhalen over de omgeving, afgewisseld met muziek uit de jaren tachtig, \"\n",
    "              \"taalprikkels Noors en ontspannen stretchmomenten. \"\n",
    "              \"Wandel op uw gemak, kijk om u heen en luister wanneer we een interessant punt passeren. \"\n",
    "              \"Aan het begin starten we met een korte warming-up. Klaar? Dan gaan we op pad.\")\n",
    "outro_text = (\"We zijn bijna aan het einde van de route. Neem even de tijd om na te voelen hoe uw lichaam is \"\n",
    "              \"opgewarmd. Straks sluiten we af met enkele rustige stretches. \"\n",
    "              \"Dank voor het meewandelen. Heeft u iets nieuws ontdekt of geleerd—een woord Noors, een stukje \"\n",
    "              \"geschiedenis? Bewaar het gevoel van ruimte en ritme. Tot de volgende keer, en fijne dag verder.\")\n",
    "intro_ssml = ssml_wrap(intro_text)\n",
    "outro_ssml = ssml_wrap(outro_text)\n"
   ]
  },
  {
   "cell_type": "markdown",
   "id": "c3b4fe29",
   "metadata": {},
   "source": [
    "\n",
    "## 6) Write artifacts (GPX, POI CSV, SSML files, Manifest)\n"
   ]
  },
  {
   "cell_type": "code",
   "execution_count": 11,
   "id": "609f2012",
   "metadata": {},
   "outputs": [
    {
     "name": "stdout",
     "output_type": "stream",
     "text": [
      "Artifacts written:\n",
      " - GPX: C:\\Development\\Python\\RoamRhythm\\out\\Test10K_BE_UD.gpx\n",
      " - CSV: C:\\Development\\Python\\RoamRhythm\\out\\pois.csv\n",
      " - SSML dir: C:\\Development\\Python\\RoamRhythm\\out\\ssml\n",
      " - Manifest: C:\\Development\\Python\\RoamRhythm\\out\\manifest.json\n"
     ]
    }
   ],
   "source": [
    "\n",
    "ssml_dir = OUTDIR / \"ssml\"\n",
    "ssml_dir.mkdir(exist_ok=True)\n",
    "\n",
    "# Save SSML\n",
    "(ssml_dir / \"intro.ssml\").write_text(intro_ssml, encoding=\"utf-8\")\n",
    "(ssml_dir / \"outro.ssml\").write_text(outro_ssml, encoding=\"utf-8\")\n",
    "for poi in pois:\n",
    "    (ssml_dir / f\"{poi['id']}.ssml\").write_text(poi[\"ssml\"], encoding=\"utf-8\")\n",
    "\n",
    "# Save CSV\n",
    "csv_path = OUTDIR / \"pois.csv\"\n",
    "with csv_path.open(\"w\", newline=\"\", encoding=\"utf-8\") as f:\n",
    "    w = csv.writer(f)\n",
    "    w.writerow([\"id\",\"km\",\"lat\",\"lon\",\"eta_utc\",\"duration_s\",\"title\",\"ssml_file\"])\n",
    "    for poi in pois:\n",
    "        w.writerow([poi[\"id\"], poi[\"km\"], poi[\"lat\"], poi[\"lon\"], poi[\"eta_utc\"], poi[\"duration_s\"], poi[\"title\"], f\"ssml/{poi['id']}.ssml\"])\n",
    "\n",
    "# Save Manifest\n",
    "manifest = {\n",
    "    \"route\": {\n",
    "        \"meters\": round(float(cum[-1]), 1),\n",
    "        \"km\": round(float(cum[-1])/1000.0, 3)\n",
    "    },\n",
    "    \"gpx\": (OUTDIR / (FIT_PATH.stem + \".gpx\")).name,\n",
    "    \"pace_kmh\": PACE_KMH,\n",
    "    \"ssml\": {\n",
    "        \"intro\": \"ssml/intro.ssml\",\n",
    "        \"outro\": \"ssml/outro.ssml\"\n",
    "    },\n",
    "    \"pois\": [\n",
    "        {\n",
    "            \"id\": p[\"id\"], \"km\": p[\"km\"], \"lat\": p[\"lat\"], \"lon\": p[\"lon\"],\n",
    "            \"eta_utc\": p[\"eta_utc\"], \"duration_s\": p[\"duration_s\"],\n",
    "            \"title\": p[\"title\"], \"ssml\": f\"ssml/{p['id']}.ssml\"\n",
    "        } for p in pois\n",
    "    ]\n",
    "}\n",
    "manifest_path = OUTDIR / \"manifest.json\"\n",
    "manifest_path.write_text(json.dumps(manifest, ensure_ascii=False, indent=2), encoding=\"utf-8\")\n",
    "\n",
    "print(\"Artifacts written:\")\n",
    "print(\" - GPX:\", gpx_path.resolve())\n",
    "print(\" - CSV:\", csv_path.resolve())\n",
    "print(\" - SSML dir:\", ssml_dir.resolve())\n",
    "print(\" - Manifest:\", manifest_path.resolve())\n"
   ]
  },
  {
   "cell_type": "markdown",
   "id": "d272b6a4",
   "metadata": {},
   "source": [
    "\n",
    "## 7) Git & GitHub sync\n",
    "\n",
    "```bash\n",
    "git init\n",
    "git add .\n",
    "git commit -m \"RoamRhythm: FIT→GPX→POI→SSML notebook\"\n",
    "git branch -M main\n",
    "git remote add origin https://github.com/poco-irrilevante/RoamRhythm.git\n",
    "git push -u origin main\n",
    "```\n",
    "> Tip: add `/out/` to `.gitignore` if you don't want to commit generated artifacts.\n"
   ]
  },
  {
   "cell_type": "markdown",
   "id": "0db2a123",
   "metadata": {},
   "source": [
    "\n",
    "## 8) Migration back to Python script\n",
    "\n",
    "When you're happy with the workflow, extract functions from cells 2–6 into a module (e.g., `roamrhythm/core.py`) and add a small CLI (argparse) to create a script-friendly tool.\n"
   ]
  }
 ],
 "metadata": {
  "kernelspec": {
   "display_name": "base",
   "language": "python",
   "name": "python3"
  },
  "language_info": {
   "codemirror_mode": {
    "name": "ipython",
    "version": 3
   },
   "file_extension": ".py",
   "mimetype": "text/x-python",
   "name": "python",
   "nbconvert_exporter": "python",
   "pygments_lexer": "ipython3",
   "version": "3.13.7"
  }
 },
 "nbformat": 4,
 "nbformat_minor": 5
}
